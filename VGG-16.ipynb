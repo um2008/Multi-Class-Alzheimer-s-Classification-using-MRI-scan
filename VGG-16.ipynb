{
 "cells": [
  {
   "cell_type": "markdown",
   "metadata": {
    "papermill": {
     "duration": 0.016872,
     "end_time": "2022-12-03T21:44:06.791826",
     "exception": false,
     "start_time": "2022-12-03T21:44:06.774954",
     "status": "completed"
    },
    "tags": []
   },
   "source": [
    "### IMPORT LIBRARIES"
   ]
  },
  {
   "cell_type": "code",
   "execution_count": 1,
   "metadata": {
    "_cell_guid": "79c7e3d0-c299-4dcb-8224-4455121ee9b0",
    "_uuid": "d629ff2d2480ee46fbb7e2d37f6b5fab8052498a",
    "execution": {
     "iopub.execute_input": "2022-12-03T21:44:06.828913Z",
     "iopub.status.busy": "2022-12-03T21:44:06.828206Z",
     "iopub.status.idle": "2022-12-03T21:44:12.529232Z",
     "shell.execute_reply": "2022-12-03T21:44:12.529836Z",
     "shell.execute_reply.started": "2022-12-03T20:42:09.114384Z"
    },
    "papermill": {
     "duration": 5.724538,
     "end_time": "2022-12-03T21:44:12.530049",
     "exception": false,
     "start_time": "2022-12-03T21:44:06.805511",
     "status": "completed"
    },
    "tags": []
   },
   "outputs": [],
   "source": [
    "import numpy as np\n",
    "import pandas as pd\n",
    "import matplotlib.pyplot as plt\n",
    "import skimage.io\n",
    "import os \n",
    "import tqdm\n",
    "import glob\n",
    "import tensorflow \n",
    "\n",
    "from tqdm import tqdm\n",
    "from sklearn.utils import shuffle\n",
    "from sklearn.model_selection import train_test_split\n",
    "\n",
    "from skimage.io import imread, imshow\n",
    "from skimage.transform import resize\n",
    "from skimage.color import grey2rgb\n",
    "\n",
    "from tensorflow.keras.preprocessing.image import ImageDataGenerator\n",
    "from tensorflow.keras.preprocessing import image_dataset_from_directory\n",
    "from tensorflow.keras.models import Sequential\n",
    "from tensorflow.keras.layers import InputLayer, BatchNormalization, Dropout, Flatten, Dense, Activation, MaxPool2D, Conv2D\n",
    "from tensorflow.keras.callbacks import EarlyStopping, ModelCheckpoint\n",
    "from tensorflow.keras.applications.vgg16 import VGG16\n",
    "from tensorflow.keras.utils import to_categorical"
   ]
  },
  {
   "cell_type": "markdown",
   "metadata": {
    "papermill": {
     "duration": 0.025175,
     "end_time": "2022-12-03T21:44:12.602257",
     "exception": false,
     "start_time": "2022-12-03T21:44:12.577082",
     "status": "completed"
    },
    "tags": []
   },
   "source": [
    "### IMPORTING / VIEWING / PREPROCESSING DATASET "
   ]
  },
  {
   "cell_type": "markdown",
   "metadata": {
    "papermill": {
     "duration": 0.023711,
     "end_time": "2022-12-03T21:44:12.650726",
     "exception": false,
     "start_time": "2022-12-03T21:44:12.627015",
     "status": "completed"
    },
    "tags": []
   },
   "source": [
    "> `DATA AUGMENTATION`"
   ]
  },
  {
   "cell_type": "code",
   "execution_count": 2,
   "metadata": {
    "execution": {
     "iopub.execute_input": "2022-12-03T21:44:12.708502Z",
     "iopub.status.busy": "2022-12-03T21:44:12.707275Z",
     "iopub.status.idle": "2022-12-03T21:44:12.710317Z",
     "shell.execute_reply": "2022-12-03T21:44:12.711535Z",
     "shell.execute_reply.started": "2022-12-03T20:42:09.130054Z"
    },
    "papermill": {
     "duration": 0.035785,
     "end_time": "2022-12-03T21:44:12.711697",
     "exception": false,
     "start_time": "2022-12-03T21:44:12.675912",
     "status": "completed"
    },
    "tags": []
   },
   "outputs": [],
   "source": [
    "train_datagen = ImageDataGenerator(rescale = 1./255,\n",
    "                                   rotation_range=30,\n",
    "                                   zoom_range=0.2,\n",
    "                                   horizontal_flip=True,\n",
    "                                   vertical_flip=True,\n",
    "                                   validation_split = 0.2)\n",
    "\n",
    "valid_datagen = ImageDataGenerator(rescale = 1./255,\n",
    "                                   validation_split = 0.2)\n",
    "\n",
    "test_datagen  = ImageDataGenerator(rescale = 1./255)"
   ]
  },
  {
   "cell_type": "code",
   "execution_count": 3,
   "metadata": {
    "execution": {
     "iopub.execute_input": "2022-12-03T21:44:12.763323Z",
     "iopub.status.busy": "2022-12-03T21:44:12.762447Z",
     "iopub.status.idle": "2022-12-03T21:44:14.752670Z",
     "shell.execute_reply": "2022-12-03T21:44:14.751491Z",
     "shell.execute_reply.started": "2022-12-03T20:42:09.140793Z"
    },
    "papermill": {
     "duration": 2.018547,
     "end_time": "2022-12-03T21:44:14.752813",
     "exception": false,
     "start_time": "2022-12-03T21:44:12.734266",
     "status": "completed"
    },
    "tags": []
   },
   "outputs": [
    {
     "name": "stdout",
     "output_type": "stream",
     "text": [
      "Found 4098 images belonging to 4 classes.\n"
     ]
    }
   ],
   "source": [
    "train_dataset  = train_datagen.flow_from_directory(directory = '../input/alzheimers-dataset-4-class-of-images/Alzheimer_s Dataset/train',\n",
    "                                                   target_size = (224,224),\n",
    "                                                   class_mode = 'categorical',\n",
    "                                                   subset = 'training',\n",
    "                                                   batch_size = 20)"
   ]
  },
  {
   "cell_type": "code",
   "execution_count": 4,
   "metadata": {
    "execution": {
     "iopub.execute_input": "2022-12-03T21:44:14.788540Z",
     "iopub.status.busy": "2022-12-03T21:44:14.787930Z",
     "iopub.status.idle": "2022-12-03T21:44:14.895419Z",
     "shell.execute_reply": "2022-12-03T21:44:14.894550Z",
     "shell.execute_reply.started": "2022-12-03T20:42:09.990414Z"
    },
    "papermill": {
     "duration": 0.127688,
     "end_time": "2022-12-03T21:44:14.895529",
     "exception": false,
     "start_time": "2022-12-03T21:44:14.767841",
     "status": "completed"
    },
    "tags": []
   },
   "outputs": [
    {
     "name": "stdout",
     "output_type": "stream",
     "text": [
      "Found 1023 images belonging to 4 classes.\n"
     ]
    }
   ],
   "source": [
    "valid_dataset = valid_datagen.flow_from_directory(directory = '../input/alzheimers-dataset-4-class-of-images/Alzheimer_s Dataset/train',\n",
    "                                                  target_size = (224,224),\n",
    "                                                  class_mode = 'categorical',\n",
    "                                                  subset = 'validation',\n",
    "                                                  batch_size = 20)"
   ]
  },
  {
   "cell_type": "markdown",
   "metadata": {
    "papermill": {
     "duration": 0.01566,
     "end_time": "2022-12-03T21:44:14.926550",
     "exception": false,
     "start_time": "2022-12-03T21:44:14.910890",
     "status": "completed"
    },
    "tags": []
   },
   "source": []
  },
  {
   "cell_type": "code",
   "execution_count": 5,
   "metadata": {
    "execution": {
     "iopub.execute_input": "2022-12-03T21:44:14.963985Z",
     "iopub.status.busy": "2022-12-03T21:44:14.963082Z",
     "iopub.status.idle": "2022-12-03T21:44:14.966605Z",
     "shell.execute_reply": "2022-12-03T21:44:14.967198Z",
     "shell.execute_reply.started": "2022-12-03T20:42:10.102318Z"
    },
    "papermill": {
     "duration": 0.025501,
     "end_time": "2022-12-03T21:44:14.967326",
     "exception": false,
     "start_time": "2022-12-03T21:44:14.941825",
     "status": "completed"
    },
    "tags": []
   },
   "outputs": [
    {
     "data": {
      "text/plain": [
       "\"fig, ax = plt.subplots(nrows = 1, ncols = 5, figsize=(20,20))\\n\\nfor i in tqdm(range(0,5)):\\n    rand1 = np.random.randint(len(train_dataset))\\n    rand2 = np.random.randint(100)\\n    ax[i].imshow(train_dataset[rand1][0][rand2])\\n    ax[i].axis('off')\\n    a = train_dataset[rand1][1][rand2]\\n    if a[0] == 1:\\n        ax[i].set_title('Mild Dementia')\\n    elif a[1] == 1:\\n        ax[i].set_title('Moderate Dementia')\\n    elif a[2] == 1:\\n        ax[i].set_title('Non Demetia')\\n    elif a[3] == 1:\\n        ax[i].set_title('Very Mild Dementia')\""
      ]
     },
     "execution_count": 5,
     "metadata": {},
     "output_type": "execute_result"
    }
   ],
   "source": [
    "'''fig, ax = plt.subplots(nrows = 1, ncols = 5, figsize=(20,20))\n",
    "\n",
    "for i in tqdm(range(0,5)):\n",
    "    rand1 = np.random.randint(len(train_dataset))\n",
    "    rand2 = np.random.randint(100)\n",
    "    ax[i].imshow(train_dataset[rand1][0][rand2])\n",
    "    ax[i].axis('off')\n",
    "    a = train_dataset[rand1][1][rand2]\n",
    "    if a[0] == 1:\n",
    "        ax[i].set_title('Mild Dementia')\n",
    "    elif a[1] == 1:\n",
    "        ax[i].set_title('Moderate Dementia')\n",
    "    elif a[2] == 1:\n",
    "        ax[i].set_title('Non Demetia')\n",
    "    elif a[3] == 1:\n",
    "        ax[i].set_title('Very Mild Dementia')'''"
   ]
  },
  {
   "cell_type": "markdown",
   "metadata": {
    "papermill": {
     "duration": 0.014886,
     "end_time": "2022-12-03T21:44:14.997401",
     "exception": false,
     "start_time": "2022-12-03T21:44:14.982515",
     "status": "completed"
    },
    "tags": []
   },
   "source": [
    "### MODEL BUILDING"
   ]
  },
  {
   "cell_type": "markdown",
   "metadata": {
    "papermill": {
     "duration": 0.015336,
     "end_time": "2022-12-03T21:44:15.027995",
     "exception": false,
     "start_time": "2022-12-03T21:44:15.012659",
     "status": "completed"
    },
    "tags": []
   },
   "source": []
  },
  {
   "cell_type": "markdown",
   "metadata": {
    "papermill": {
     "duration": 0.015488,
     "end_time": "2022-12-03T21:44:15.059434",
     "exception": false,
     "start_time": "2022-12-03T21:44:15.043946",
     "status": "completed"
    },
    "tags": []
   },
   "source": []
  },
  {
   "cell_type": "code",
   "execution_count": 6,
   "metadata": {
    "execution": {
     "iopub.execute_input": "2022-12-03T21:44:15.098237Z",
     "iopub.status.busy": "2022-12-03T21:44:15.097656Z",
     "iopub.status.idle": "2022-12-03T21:44:18.039677Z",
     "shell.execute_reply": "2022-12-03T21:44:18.038958Z",
     "shell.execute_reply.started": "2022-12-03T20:42:10.110445Z"
    },
    "papermill": {
     "duration": 2.964867,
     "end_time": "2022-12-03T21:44:18.039833",
     "exception": false,
     "start_time": "2022-12-03T21:44:15.074966",
     "status": "completed"
    },
    "tags": []
   },
   "outputs": [
    {
     "name": "stdout",
     "output_type": "stream",
     "text": [
      "Downloading data from https://storage.googleapis.com/tensorflow/keras-applications/vgg16/vgg16_weights_tf_dim_ordering_tf_kernels_notop.h5\n",
      "58892288/58889256 [==============================] - 0s 0us/step\n"
     ]
    }
   ],
   "source": [
    "base_model = VGG16(input_shape=(224,224,3), \n",
    "                   include_top=False,\n",
    "                   weights=\"imagenet\")"
   ]
  },
  {
   "cell_type": "code",
   "execution_count": 7,
   "metadata": {
    "execution": {
     "iopub.execute_input": "2022-12-03T21:44:18.079576Z",
     "iopub.status.busy": "2022-12-03T21:44:18.078724Z",
     "iopub.status.idle": "2022-12-03T21:44:18.080964Z",
     "shell.execute_reply": "2022-12-03T21:44:18.081348Z",
     "shell.execute_reply.started": "2022-12-03T20:42:10.389496Z"
    },
    "papermill": {
     "duration": 0.024478,
     "end_time": "2022-12-03T21:44:18.081467",
     "exception": false,
     "start_time": "2022-12-03T21:44:18.056989",
     "status": "completed"
    },
    "tags": []
   },
   "outputs": [],
   "source": [
    "# Freezing Layers\n",
    "\n",
    "for layer in base_model.layers:\n",
    "    layer.trainable=False"
   ]
  },
  {
   "cell_type": "code",
   "execution_count": 8,
   "metadata": {
    "execution": {
     "iopub.execute_input": "2022-12-03T21:44:18.123386Z",
     "iopub.status.busy": "2022-12-03T21:44:18.122394Z",
     "iopub.status.idle": "2022-12-03T21:44:18.307245Z",
     "shell.execute_reply": "2022-12-03T21:44:18.306580Z",
     "shell.execute_reply.started": "2022-12-03T20:42:10.398111Z"
    },
    "papermill": {
     "duration": 0.209416,
     "end_time": "2022-12-03T21:44:18.307361",
     "exception": false,
     "start_time": "2022-12-03T21:44:18.097945",
     "status": "completed"
    },
    "tags": []
   },
   "outputs": [],
   "source": [
    "# Building Model\n",
    "\n",
    "model=Sequential()\n",
    "model.add(base_model)\n",
    "model.add(Dropout(0.5))\n",
    "model.add(Flatten())\n",
    "model.add(BatchNormalization())\n",
    "model.add(Dense(2048,kernel_initializer='he_uniform'))\n",
    "model.add(BatchNormalization())\n",
    "model.add(Activation('relu'))\n",
    "model.add(Dropout(0.5))\n",
    "model.add(Dense(1024,kernel_initializer='he_uniform'))\n",
    "model.add(BatchNormalization())\n",
    "model.add(Activation('relu'))\n",
    "model.add(Dropout(0.5))\n",
    "model.add(Dense(4,activation='softmax'))"
   ]
  },
  {
   "cell_type": "code",
   "execution_count": 9,
   "metadata": {
    "execution": {
     "iopub.execute_input": "2022-12-03T21:44:18.344327Z",
     "iopub.status.busy": "2022-12-03T21:44:18.343742Z",
     "iopub.status.idle": "2022-12-03T21:44:18.355332Z",
     "shell.execute_reply": "2022-12-03T21:44:18.356065Z",
     "shell.execute_reply.started": "2022-12-03T20:42:10.570838Z"
    },
    "papermill": {
     "duration": 0.032258,
     "end_time": "2022-12-03T21:44:18.356278",
     "exception": false,
     "start_time": "2022-12-03T21:44:18.324020",
     "status": "completed"
    },
    "tags": []
   },
   "outputs": [
    {
     "name": "stdout",
     "output_type": "stream",
     "text": [
      "Model: \"sequential\"\n",
      "_________________________________________________________________\n",
      "Layer (type)                 Output Shape              Param #   \n",
      "=================================================================\n",
      "vgg16 (Functional)           (None, 7, 7, 512)         14714688  \n",
      "_________________________________________________________________\n",
      "dropout (Dropout)            (None, 7, 7, 512)         0         \n",
      "_________________________________________________________________\n",
      "flatten (Flatten)            (None, 25088)             0         \n",
      "_________________________________________________________________\n",
      "batch_normalization (BatchNo (None, 25088)             100352    \n",
      "_________________________________________________________________\n",
      "dense (Dense)                (None, 2048)              51382272  \n",
      "_________________________________________________________________\n",
      "batch_normalization_1 (Batch (None, 2048)              8192      \n",
      "_________________________________________________________________\n",
      "activation (Activation)      (None, 2048)              0         \n",
      "_________________________________________________________________\n",
      "dropout_1 (Dropout)          (None, 2048)              0         \n",
      "_________________________________________________________________\n",
      "dense_1 (Dense)              (None, 1024)              2098176   \n",
      "_________________________________________________________________\n",
      "batch_normalization_2 (Batch (None, 1024)              4096      \n",
      "_________________________________________________________________\n",
      "activation_1 (Activation)    (None, 1024)              0         \n",
      "_________________________________________________________________\n",
      "dropout_2 (Dropout)          (None, 1024)              0         \n",
      "_________________________________________________________________\n",
      "dense_2 (Dense)              (None, 4)                 4100      \n",
      "=================================================================\n",
      "Total params: 68,311,876\n",
      "Trainable params: 53,540,868\n",
      "Non-trainable params: 14,771,008\n",
      "_________________________________________________________________\n"
     ]
    }
   ],
   "source": [
    "# Model Summary\n",
    "\n",
    "model.summary()"
   ]
  },
  {
   "cell_type": "code",
   "execution_count": 10,
   "metadata": {
    "execution": {
     "iopub.execute_input": "2022-12-03T21:44:18.399858Z",
     "iopub.status.busy": "2022-12-03T21:44:18.398911Z",
     "iopub.status.idle": "2022-12-03T21:44:18.426857Z",
     "shell.execute_reply": "2022-12-03T21:44:18.426409Z",
     "shell.execute_reply.started": "2022-12-03T20:42:10.588752Z"
    },
    "papermill": {
     "duration": 0.054385,
     "end_time": "2022-12-03T21:44:18.426959",
     "exception": false,
     "start_time": "2022-12-03T21:44:18.372574",
     "status": "completed"
    },
    "tags": []
   },
   "outputs": [],
   "source": [
    "# Model Compile \n",
    "\n",
    "OPT    = tensorflow.keras.optimizers.Adam(lr=0.001)\n",
    "METRICS = [\n",
    "      tensorflow.keras.metrics.BinaryAccuracy(name='accuracy'),\n",
    "      tensorflow.keras.metrics.Precision(name='precision'),\n",
    "      tensorflow.keras.metrics.Recall(name='recall'),  \n",
    "      tensorflow.keras.metrics.AUC(name='auc')]\n",
    "\n",
    "model.compile(loss='categorical_crossentropy',\n",
    "              metrics=METRICS,\n",
    "              optimizer=OPT)"
   ]
  },
  {
   "cell_type": "code",
   "execution_count": 11,
   "metadata": {
    "execution": {
     "iopub.execute_input": "2022-12-03T21:44:18.465643Z",
     "iopub.status.busy": "2022-12-03T21:44:18.465115Z",
     "iopub.status.idle": "2022-12-03T21:44:18.468755Z",
     "shell.execute_reply": "2022-12-03T21:44:18.468359Z",
     "shell.execute_reply.started": "2022-12-03T20:42:10.627872Z"
    },
    "papermill": {
     "duration": 0.025088,
     "end_time": "2022-12-03T21:44:18.468879",
     "exception": false,
     "start_time": "2022-12-03T21:44:18.443791",
     "status": "completed"
    },
    "tags": []
   },
   "outputs": [],
   "source": [
    "# Defining Callbacks\n",
    "\n",
    "filepath = './best_weights.hdf5'\n",
    "\n",
    "earlystopping = EarlyStopping(monitor = 'val_auc', \n",
    "                              mode = 'max' , \n",
    "                              patience = 15,\n",
    "                              verbose = 1)\n",
    "\n",
    "checkpoint    = ModelCheckpoint(filepath, \n",
    "                                monitor = 'val_auc', \n",
    "                                mode='max', \n",
    "                                save_best_only=True, \n",
    "                                verbose = 1)\n",
    "\n",
    "\n",
    "callback_list = [earlystopping, checkpoint]"
   ]
  },
  {
   "cell_type": "code",
   "execution_count": 12,
   "metadata": {
    "execution": {
     "iopub.execute_input": "2022-12-03T21:44:18.505904Z",
     "iopub.status.busy": "2022-12-03T21:44:18.505278Z",
     "iopub.status.idle": "2022-12-03T22:36:36.218996Z",
     "shell.execute_reply": "2022-12-03T22:36:36.219410Z",
     "shell.execute_reply.started": "2022-12-03T20:42:10.637004Z"
    },
    "papermill": {
     "duration": 3137.734048,
     "end_time": "2022-12-03T22:36:36.219552",
     "exception": false,
     "start_time": "2022-12-03T21:44:18.485504",
     "status": "completed"
    },
    "tags": []
   },
   "outputs": [
    {
     "name": "stdout",
     "output_type": "stream",
     "text": [
      "Epoch 1/100\n",
      "205/205 [==============================] - ETA: 0s - loss: 1.3805 - accuracy: 0.7540 - precision: 0.5091 - recall: 0.4505 - auc: 0.7745\n",
      "Epoch 00001: val_auc improved from -inf to 0.72880, saving model to ./best_weights.hdf5\n",
      "205/205 [==============================] - 69s 337ms/step - loss: 1.3805 - accuracy: 0.7540 - precision: 0.5091 - recall: 0.4505 - auc: 0.7745 - val_loss: 1.1293 - val_accuracy: 0.7549 - val_precision: 0.5189 - val_recall: 0.2688 - val_auc: 0.7288\n",
      "Epoch 2/100\n",
      "205/205 [==============================] - ETA: 0s - loss: 1.0665 - accuracy: 0.7781 - precision: 0.5676 - recall: 0.4714 - auc: 0.8178\n",
      "Epoch 00002: val_auc improved from 0.72880 to 0.76148, saving model to ./best_weights.hdf5\n",
      "205/205 [==============================] - 54s 262ms/step - loss: 1.0665 - accuracy: 0.7781 - precision: 0.5676 - recall: 0.4714 - auc: 0.8178 - val_loss: 1.2198 - val_accuracy: 0.7578 - val_precision: 0.5214 - val_recall: 0.3803 - val_auc: 0.7615\n",
      "Epoch 3/100\n",
      "205/205 [==============================] - ETA: 0s - loss: 0.9807 - accuracy: 0.7893 - precision: 0.5963 - recall: 0.4863 - auc: 0.8348\n",
      "Epoch 00003: val_auc improved from 0.76148 to 0.78866, saving model to ./best_weights.hdf5\n",
      "205/205 [==============================] - 53s 261ms/step - loss: 0.9807 - accuracy: 0.7893 - precision: 0.5963 - recall: 0.4863 - auc: 0.8348 - val_loss: 1.1731 - val_accuracy: 0.7510 - val_precision: 0.5024 - val_recall: 0.4076 - val_auc: 0.7887\n",
      "Epoch 4/100\n",
      "205/205 [==============================] - ETA: 0s - loss: 0.9362 - accuracy: 0.7964 - precision: 0.6163 - recall: 0.4919 - auc: 0.8437\n",
      "Epoch 00004: val_auc improved from 0.78866 to 0.79881, saving model to ./best_weights.hdf5\n",
      "205/205 [==============================] - 52s 255ms/step - loss: 0.9362 - accuracy: 0.7964 - precision: 0.6163 - recall: 0.4919 - auc: 0.8437 - val_loss: 1.1652 - val_accuracy: 0.7686 - val_precision: 0.5471 - val_recall: 0.4311 - val_auc: 0.7988\n",
      "Epoch 5/100\n",
      "205/205 [==============================] - ETA: 0s - loss: 0.9005 - accuracy: 0.8005 - precision: 0.6286 - recall: 0.4932 - auc: 0.8524\n",
      "Epoch 00005: val_auc did not improve from 0.79881\n",
      "205/205 [==============================] - 51s 247ms/step - loss: 0.9005 - accuracy: 0.8005 - precision: 0.6286 - recall: 0.4932 - auc: 0.8524 - val_loss: 1.1357 - val_accuracy: 0.7671 - val_precision: 0.5497 - val_recall: 0.3783 - val_auc: 0.7809\n",
      "Epoch 6/100\n",
      "205/205 [==============================] - ETA: 0s - loss: 0.8797 - accuracy: 0.8076 - precision: 0.6481 - recall: 0.5039 - auc: 0.8584\n",
      "Epoch 00006: val_auc did not improve from 0.79881\n",
      "205/205 [==============================] - 51s 250ms/step - loss: 0.8797 - accuracy: 0.8076 - precision: 0.6481 - recall: 0.5039 - auc: 0.8584 - val_loss: 1.1210 - val_accuracy: 0.7720 - val_precision: 0.5670 - val_recall: 0.3724 - val_auc: 0.7744\n",
      "Epoch 7/100\n",
      "205/205 [==============================] - ETA: 0s - loss: 0.8694 - accuracy: 0.8121 - precision: 0.6556 - recall: 0.5234 - auc: 0.8638\n",
      "Epoch 00007: val_auc did not improve from 0.79881\n",
      "205/205 [==============================] - 52s 252ms/step - loss: 0.8694 - accuracy: 0.8121 - precision: 0.6556 - recall: 0.5234 - auc: 0.8638 - val_loss: 1.1153 - val_accuracy: 0.7644 - val_precision: 0.5422 - val_recall: 0.3705 - val_auc: 0.7763\n",
      "Epoch 8/100\n",
      "205/205 [==============================] - ETA: 0s - loss: 0.8555 - accuracy: 0.8121 - precision: 0.6590 - recall: 0.5149 - auc: 0.8637\n",
      "Epoch 00008: val_auc improved from 0.79881 to 0.80270, saving model to ./best_weights.hdf5\n",
      "205/205 [==============================] - 53s 258ms/step - loss: 0.8555 - accuracy: 0.8121 - precision: 0.6590 - recall: 0.5149 - auc: 0.8637 - val_loss: 1.2215 - val_accuracy: 0.7556 - val_precision: 0.5129 - val_recall: 0.4467 - val_auc: 0.8027\n",
      "Epoch 9/100\n",
      "205/205 [==============================] - ETA: 0s - loss: 0.8441 - accuracy: 0.8144 - precision: 0.6602 - recall: 0.5305 - auc: 0.8698\n",
      "Epoch 00009: val_auc improved from 0.80270 to 0.80313, saving model to ./best_weights.hdf5\n",
      "205/205 [==============================] - 53s 260ms/step - loss: 0.8441 - accuracy: 0.8144 - precision: 0.6602 - recall: 0.5305 - auc: 0.8698 - val_loss: 1.1317 - val_accuracy: 0.7696 - val_precision: 0.5487 - val_recall: 0.4409 - val_auc: 0.8031\n",
      "Epoch 10/100\n",
      "205/205 [==============================] - ETA: 0s - loss: 0.8472 - accuracy: 0.8153 - precision: 0.6638 - recall: 0.5290 - auc: 0.8679\n",
      "Epoch 00010: val_auc did not improve from 0.80313\n",
      "205/205 [==============================] - 52s 251ms/step - loss: 0.8472 - accuracy: 0.8153 - precision: 0.6638 - recall: 0.5290 - auc: 0.8679 - val_loss: 1.2690 - val_accuracy: 0.7312 - val_precision: 0.4583 - val_recall: 0.4135 - val_auc: 0.7737\n",
      "Epoch 11/100\n",
      "205/205 [==============================] - ETA: 0s - loss: 0.8322 - accuracy: 0.8131 - precision: 0.6569 - recall: 0.5288 - auc: 0.8721\n",
      "Epoch 00011: val_auc did not improve from 0.80313\n",
      "205/205 [==============================] - 51s 249ms/step - loss: 0.8322 - accuracy: 0.8131 - precision: 0.6569 - recall: 0.5288 - auc: 0.8721 - val_loss: 1.1254 - val_accuracy: 0.7478 - val_precision: 0.4946 - val_recall: 0.4037 - val_auc: 0.7952\n",
      "Epoch 12/100\n",
      "205/205 [==============================] - ETA: 0s - loss: 0.8178 - accuracy: 0.8171 - precision: 0.6675 - recall: 0.5349 - auc: 0.8754\n",
      "Epoch 00012: val_auc improved from 0.80313 to 0.81474, saving model to ./best_weights.hdf5\n",
      "205/205 [==============================] - 53s 261ms/step - loss: 0.8178 - accuracy: 0.8171 - precision: 0.6675 - recall: 0.5349 - auc: 0.8754 - val_loss: 1.0522 - val_accuracy: 0.7578 - val_precision: 0.5183 - val_recall: 0.4428 - val_auc: 0.8147\n",
      "Epoch 13/100\n",
      "205/205 [==============================] - ETA: 0s - loss: 0.8115 - accuracy: 0.8169 - precision: 0.6640 - recall: 0.5420 - auc: 0.8774\n",
      "Epoch 00013: val_auc did not improve from 0.81474\n",
      "205/205 [==============================] - 52s 251ms/step - loss: 0.8115 - accuracy: 0.8169 - precision: 0.6640 - recall: 0.5420 - auc: 0.8774 - val_loss: 1.1359 - val_accuracy: 0.7627 - val_precision: 0.5314 - val_recall: 0.4301 - val_auc: 0.8057\n",
      "Epoch 14/100\n",
      "205/205 [==============================] - ETA: 0s - loss: 0.8067 - accuracy: 0.8229 - precision: 0.6802 - recall: 0.5503 - auc: 0.8805\n",
      "Epoch 00014: val_auc did not improve from 0.81474\n",
      "205/205 [==============================] - 51s 250ms/step - loss: 0.8067 - accuracy: 0.8229 - precision: 0.6802 - recall: 0.5503 - auc: 0.8805 - val_loss: 1.1359 - val_accuracy: 0.7681 - val_precision: 0.5437 - val_recall: 0.4497 - val_auc: 0.8131\n",
      "Epoch 15/100\n",
      "205/205 [==============================] - ETA: 0s - loss: 0.7909 - accuracy: 0.8280 - precision: 0.6889 - recall: 0.5691 - auc: 0.8847\n",
      "Epoch 00015: val_auc did not improve from 0.81474\n",
      "205/205 [==============================] - 51s 249ms/step - loss: 0.7909 - accuracy: 0.8280 - precision: 0.6889 - recall: 0.5691 - auc: 0.8847 - val_loss: 1.0881 - val_accuracy: 0.7561 - val_precision: 0.5154 - val_recall: 0.4096 - val_auc: 0.7987\n",
      "Epoch 16/100\n",
      "205/205 [==============================] - ETA: 0s - loss: 0.7810 - accuracy: 0.8264 - precision: 0.6866 - recall: 0.5625 - auc: 0.8864\n",
      "Epoch 00016: val_auc did not improve from 0.81474\n",
      "205/205 [==============================] - 51s 251ms/step - loss: 0.7810 - accuracy: 0.8264 - precision: 0.6866 - recall: 0.5625 - auc: 0.8864 - val_loss: 1.1124 - val_accuracy: 0.7656 - val_precision: 0.5408 - val_recall: 0.4145 - val_auc: 0.7960\n",
      "Epoch 17/100\n",
      "205/205 [==============================] - ETA: 0s - loss: 0.7774 - accuracy: 0.8291 - precision: 0.6940 - recall: 0.5656 - auc: 0.8884\n",
      "Epoch 00017: val_auc improved from 0.81474 to 0.82891, saving model to ./best_weights.hdf5\n",
      "205/205 [==============================] - 53s 261ms/step - loss: 0.7774 - accuracy: 0.8291 - precision: 0.6940 - recall: 0.5656 - auc: 0.8884 - val_loss: 1.0699 - val_accuracy: 0.7803 - val_precision: 0.5740 - val_recall: 0.4702 - val_auc: 0.8289\n",
      "Epoch 18/100\n",
      "205/205 [==============================] - ETA: 0s - loss: 0.7641 - accuracy: 0.8282 - precision: 0.6878 - recall: 0.5730 - auc: 0.8910\n",
      "Epoch 00018: val_auc did not improve from 0.82891\n",
      "205/205 [==============================] - 52s 253ms/step - loss: 0.7641 - accuracy: 0.8282 - precision: 0.6878 - recall: 0.5730 - auc: 0.8910 - val_loss: 1.1075 - val_accuracy: 0.7581 - val_precision: 0.5195 - val_recall: 0.4291 - val_auc: 0.8013\n",
      "Epoch 19/100\n",
      "205/205 [==============================] - ETA: 0s - loss: 0.7805 - accuracy: 0.8294 - precision: 0.6912 - recall: 0.5742 - auc: 0.8885\n",
      "Epoch 00019: val_auc improved from 0.82891 to 0.83080, saving model to ./best_weights.hdf5\n",
      "205/205 [==============================] - 54s 263ms/step - loss: 0.7805 - accuracy: 0.8294 - precision: 0.6912 - recall: 0.5742 - auc: 0.8885 - val_loss: 1.0310 - val_accuracy: 0.7796 - val_precision: 0.5718 - val_recall: 0.4712 - val_auc: 0.8308\n",
      "Epoch 20/100\n",
      "205/205 [==============================] - ETA: 0s - loss: 0.7618 - accuracy: 0.8319 - precision: 0.6984 - recall: 0.5764 - auc: 0.8920\n",
      "Epoch 00020: val_auc did not improve from 0.83080\n",
      "205/205 [==============================] - 52s 252ms/step - loss: 0.7618 - accuracy: 0.8319 - precision: 0.6984 - recall: 0.5764 - auc: 0.8920 - val_loss: 1.0918 - val_accuracy: 0.7605 - val_precision: 0.5249 - val_recall: 0.4428 - val_auc: 0.8090\n",
      "Epoch 21/100\n",
      "205/205 [==============================] - ETA: 0s - loss: 0.7748 - accuracy: 0.8271 - precision: 0.6838 - recall: 0.5737 - auc: 0.8887\n",
      "Epoch 00021: val_auc did not improve from 0.83080\n",
      "205/205 [==============================] - 52s 253ms/step - loss: 0.7748 - accuracy: 0.8271 - precision: 0.6838 - recall: 0.5737 - auc: 0.8887 - val_loss: 1.0007 - val_accuracy: 0.7656 - val_precision: 0.5364 - val_recall: 0.4604 - val_auc: 0.8216\n",
      "Epoch 22/100\n",
      "205/205 [==============================] - ETA: 0s - loss: 0.7577 - accuracy: 0.8306 - precision: 0.6932 - recall: 0.5783 - auc: 0.8934\n",
      "Epoch 00022: val_auc did not improve from 0.83080\n",
      "205/205 [==============================] - 53s 256ms/step - loss: 0.7577 - accuracy: 0.8306 - precision: 0.6932 - recall: 0.5783 - auc: 0.8934 - val_loss: 1.1458 - val_accuracy: 0.7666 - val_precision: 0.5391 - val_recall: 0.4585 - val_auc: 0.8100\n",
      "Epoch 23/100\n",
      "205/205 [==============================] - ETA: 0s - loss: 0.7629 - accuracy: 0.8313 - precision: 0.6970 - recall: 0.5754 - auc: 0.8925\n",
      "Epoch 00023: val_auc did not improve from 0.83080\n",
      "205/205 [==============================] - 51s 250ms/step - loss: 0.7629 - accuracy: 0.8313 - precision: 0.6970 - recall: 0.5754 - auc: 0.8925 - val_loss: 1.1335 - val_accuracy: 0.7730 - val_precision: 0.5521 - val_recall: 0.4868 - val_auc: 0.8234\n",
      "Epoch 24/100\n",
      "205/205 [==============================] - ETA: 0s - loss: 0.7552 - accuracy: 0.8330 - precision: 0.6971 - recall: 0.5869 - auc: 0.8941\n",
      "Epoch 00024: val_auc did not improve from 0.83080\n",
      "205/205 [==============================] - 51s 247ms/step - loss: 0.7552 - accuracy: 0.8330 - precision: 0.6971 - recall: 0.5869 - auc: 0.8941 - val_loss: 1.0725 - val_accuracy: 0.7688 - val_precision: 0.5433 - val_recall: 0.4721 - val_auc: 0.8231\n",
      "Epoch 25/100\n",
      "205/205 [==============================] - ETA: 0s - loss: 0.7370 - accuracy: 0.8368 - precision: 0.7070 - recall: 0.5930 - auc: 0.8987\n",
      "Epoch 00025: val_auc did not improve from 0.83080\n",
      "205/205 [==============================] - 52s 254ms/step - loss: 0.7370 - accuracy: 0.8368 - precision: 0.7070 - recall: 0.5930 - auc: 0.8987 - val_loss: 1.1865 - val_accuracy: 0.7546 - val_precision: 0.5103 - val_recall: 0.4585 - val_auc: 0.8003\n",
      "Epoch 26/100\n",
      "205/205 [==============================] - ETA: 0s - loss: 0.7338 - accuracy: 0.8395 - precision: 0.7116 - recall: 0.6020 - auc: 0.9009\n",
      "Epoch 00026: val_auc did not improve from 0.83080\n",
      "205/205 [==============================] - 51s 248ms/step - loss: 0.7338 - accuracy: 0.8395 - precision: 0.7116 - recall: 0.6020 - auc: 0.9009 - val_loss: 1.2378 - val_accuracy: 0.7752 - val_precision: 0.5589 - val_recall: 0.4780 - val_auc: 0.8037\n",
      "Epoch 27/100\n",
      "205/205 [==============================] - ETA: 0s - loss: 0.7372 - accuracy: 0.8383 - precision: 0.7105 - recall: 0.5964 - auc: 0.8991\n",
      "Epoch 00027: val_auc did not improve from 0.83080\n",
      "205/205 [==============================] - 52s 254ms/step - loss: 0.7372 - accuracy: 0.8383 - precision: 0.7105 - recall: 0.5964 - auc: 0.8991 - val_loss: 1.1482 - val_accuracy: 0.7754 - val_precision: 0.5590 - val_recall: 0.4819 - val_auc: 0.8225\n",
      "Epoch 28/100\n",
      "205/205 [==============================] - ETA: 0s - loss: 0.7275 - accuracy: 0.8400 - precision: 0.7122 - recall: 0.6044 - auc: 0.9021\n",
      "Epoch 00028: val_auc did not improve from 0.83080\n",
      "205/205 [==============================] - 52s 254ms/step - loss: 0.7275 - accuracy: 0.8400 - precision: 0.7122 - recall: 0.6044 - auc: 0.9021 - val_loss: 1.1892 - val_accuracy: 0.7671 - val_precision: 0.5400 - val_recall: 0.4614 - val_auc: 0.8063\n",
      "Epoch 29/100\n",
      "205/205 [==============================] - ETA: 0s - loss: 0.7253 - accuracy: 0.8419 - precision: 0.7171 - recall: 0.6074 - auc: 0.9021\n",
      "Epoch 00029: val_auc did not improve from 0.83080\n",
      "205/205 [==============================] - 51s 248ms/step - loss: 0.7253 - accuracy: 0.8419 - precision: 0.7171 - recall: 0.6074 - auc: 0.9021 - val_loss: 1.0854 - val_accuracy: 0.7771 - val_precision: 0.5615 - val_recall: 0.4956 - val_auc: 0.8294\n",
      "Epoch 30/100\n",
      "205/205 [==============================] - ETA: 0s - loss: 0.7149 - accuracy: 0.8408 - precision: 0.7114 - recall: 0.6110 - auc: 0.9052\n",
      "Epoch 00030: val_auc did not improve from 0.83080\n",
      "205/205 [==============================] - 53s 256ms/step - loss: 0.7149 - accuracy: 0.8408 - precision: 0.7114 - recall: 0.6110 - auc: 0.9052 - val_loss: 1.0072 - val_accuracy: 0.7808 - val_precision: 0.5748 - val_recall: 0.4731 - val_auc: 0.8266\n",
      "Epoch 31/100\n",
      "205/205 [==============================] - ETA: 0s - loss: 0.7203 - accuracy: 0.8433 - precision: 0.7203 - recall: 0.6101 - auc: 0.9042\n",
      "Epoch 00031: val_auc improved from 0.83080 to 0.83725, saving model to ./best_weights.hdf5\n",
      "205/205 [==============================] - 53s 259ms/step - loss: 0.7203 - accuracy: 0.8433 - precision: 0.7203 - recall: 0.6101 - auc: 0.9042 - val_loss: 1.0750 - val_accuracy: 0.7893 - val_precision: 0.5914 - val_recall: 0.5093 - val_auc: 0.8372\n",
      "Epoch 32/100\n",
      "205/205 [==============================] - ETA: 0s - loss: 0.7087 - accuracy: 0.8452 - precision: 0.7234 - recall: 0.6166 - auc: 0.9077\n",
      "Epoch 00032: val_auc improved from 0.83725 to 0.84781, saving model to ./best_weights.hdf5\n",
      "205/205 [==============================] - 54s 265ms/step - loss: 0.7087 - accuracy: 0.8452 - precision: 0.7234 - recall: 0.6166 - auc: 0.9077 - val_loss: 0.9913 - val_accuracy: 0.7972 - val_precision: 0.6129 - val_recall: 0.5122 - val_auc: 0.8478\n",
      "Epoch 33/100\n",
      "205/205 [==============================] - ETA: 0s - loss: 0.6998 - accuracy: 0.8494 - precision: 0.7305 - recall: 0.6303 - auc: 0.9100\n",
      "Epoch 00033: val_auc did not improve from 0.84781\n",
      "205/205 [==============================] - 53s 257ms/step - loss: 0.6998 - accuracy: 0.8494 - precision: 0.7305 - recall: 0.6303 - auc: 0.9100 - val_loss: 1.0877 - val_accuracy: 0.7879 - val_precision: 0.5854 - val_recall: 0.5191 - val_auc: 0.8396\n",
      "Epoch 34/100\n",
      "205/205 [==============================] - ETA: 0s - loss: 0.6957 - accuracy: 0.8457 - precision: 0.7214 - recall: 0.6237 - auc: 0.9101\n",
      "Epoch 00034: val_auc improved from 0.84781 to 0.85154, saving model to ./best_weights.hdf5\n",
      "205/205 [==============================] - 54s 262ms/step - loss: 0.6957 - accuracy: 0.8457 - precision: 0.7214 - recall: 0.6237 - auc: 0.9101 - val_loss: 1.0385 - val_accuracy: 0.7977 - val_precision: 0.6047 - val_recall: 0.5503 - val_auc: 0.8515\n",
      "Epoch 35/100\n",
      "205/205 [==============================] - ETA: 0s - loss: 0.6971 - accuracy: 0.8482 - precision: 0.7279 - recall: 0.6274 - auc: 0.9113\n",
      "Epoch 00035: val_auc did not improve from 0.85154\n",
      "205/205 [==============================] - 53s 257ms/step - loss: 0.6971 - accuracy: 0.8482 - precision: 0.7279 - recall: 0.6274 - auc: 0.9113 - val_loss: 1.0641 - val_accuracy: 0.7749 - val_precision: 0.5531 - val_recall: 0.5191 - val_auc: 0.8363\n",
      "Epoch 36/100\n",
      "205/205 [==============================] - ETA: 0s - loss: 0.6978 - accuracy: 0.8467 - precision: 0.7241 - recall: 0.6249 - auc: 0.9094\n",
      "Epoch 00036: val_auc did not improve from 0.85154\n",
      "205/205 [==============================] - 52s 255ms/step - loss: 0.6978 - accuracy: 0.8467 - precision: 0.7241 - recall: 0.6249 - auc: 0.9094 - val_loss: 1.0596 - val_accuracy: 0.7913 - val_precision: 0.5915 - val_recall: 0.5337 - val_auc: 0.8454\n",
      "Epoch 37/100\n",
      "205/205 [==============================] - ETA: 0s - loss: 0.6782 - accuracy: 0.8556 - precision: 0.7417 - recall: 0.6481 - auc: 0.9157\n",
      "Epoch 00037: val_auc did not improve from 0.85154\n",
      "205/205 [==============================] - 52s 252ms/step - loss: 0.6782 - accuracy: 0.8556 - precision: 0.7417 - recall: 0.6481 - auc: 0.9157 - val_loss: 0.9715 - val_accuracy: 0.7935 - val_precision: 0.5980 - val_recall: 0.5308 - val_auc: 0.8494\n",
      "Epoch 38/100\n",
      "205/205 [==============================] - ETA: 0s - loss: 0.6843 - accuracy: 0.8503 - precision: 0.7306 - recall: 0.6354 - auc: 0.9129\n",
      "Epoch 00038: val_auc did not improve from 0.85154\n",
      "205/205 [==============================] - 52s 256ms/step - loss: 0.6843 - accuracy: 0.8503 - precision: 0.7306 - recall: 0.6354 - auc: 0.9129 - val_loss: 1.0209 - val_accuracy: 0.7864 - val_precision: 0.5832 - val_recall: 0.5103 - val_auc: 0.8373\n",
      "Epoch 39/100\n",
      "205/205 [==============================] - ETA: 0s - loss: 0.6831 - accuracy: 0.8530 - precision: 0.7333 - recall: 0.6474 - auc: 0.9138\n",
      "Epoch 00039: val_auc did not improve from 0.85154\n",
      "205/205 [==============================] - 52s 255ms/step - loss: 0.6831 - accuracy: 0.8530 - precision: 0.7333 - recall: 0.6474 - auc: 0.9138 - val_loss: 1.0726 - val_accuracy: 0.7813 - val_precision: 0.5699 - val_recall: 0.5103 - val_auc: 0.8284\n",
      "Epoch 40/100\n",
      "205/205 [==============================] - ETA: 0s - loss: 0.6658 - accuracy: 0.8571 - precision: 0.7473 - recall: 0.6471 - auc: 0.9184\n",
      "Epoch 00040: val_auc improved from 0.85154 to 0.85225, saving model to ./best_weights.hdf5\n",
      "205/205 [==============================] - 55s 269ms/step - loss: 0.6658 - accuracy: 0.8571 - precision: 0.7473 - recall: 0.6471 - auc: 0.9184 - val_loss: 1.0187 - val_accuracy: 0.8001 - val_precision: 0.6113 - val_recall: 0.5503 - val_auc: 0.8522\n",
      "Epoch 41/100\n",
      "205/205 [==============================] - ETA: 0s - loss: 0.6846 - accuracy: 0.8557 - precision: 0.7396 - recall: 0.6523 - auc: 0.9143\n",
      "Epoch 00041: val_auc improved from 0.85225 to 0.86036, saving model to ./best_weights.hdf5\n",
      "205/205 [==============================] - 55s 267ms/step - loss: 0.6846 - accuracy: 0.8557 - precision: 0.7396 - recall: 0.6523 - auc: 0.9143 - val_loss: 0.9777 - val_accuracy: 0.8025 - val_precision: 0.6135 - val_recall: 0.5679 - val_auc: 0.8604\n",
      "Epoch 42/100\n",
      "205/205 [==============================] - ETA: 0s - loss: 0.6860 - accuracy: 0.8508 - precision: 0.7332 - recall: 0.6337 - auc: 0.9133\n",
      "Epoch 00042: val_auc did not improve from 0.86036\n",
      "205/205 [==============================] - 53s 258ms/step - loss: 0.6860 - accuracy: 0.8508 - precision: 0.7332 - recall: 0.6337 - auc: 0.9133 - val_loss: 1.0064 - val_accuracy: 0.7827 - val_precision: 0.5736 - val_recall: 0.5103 - val_auc: 0.8392\n",
      "Epoch 43/100\n",
      "205/205 [==============================] - ETA: 0s - loss: 0.6497 - accuracy: 0.8577 - precision: 0.7441 - recall: 0.6564 - auc: 0.9218\n",
      "Epoch 00043: val_auc improved from 0.86036 to 0.86236, saving model to ./best_weights.hdf5\n",
      "205/205 [==============================] - 56s 272ms/step - loss: 0.6497 - accuracy: 0.8577 - precision: 0.7441 - recall: 0.6564 - auc: 0.9218 - val_loss: 0.9949 - val_accuracy: 0.8013 - val_precision: 0.6098 - val_recall: 0.5699 - val_auc: 0.8624\n",
      "Epoch 44/100\n",
      "205/205 [==============================] - ETA: 0s - loss: 0.6514 - accuracy: 0.8617 - precision: 0.7523 - recall: 0.6662 - auc: 0.9224\n",
      "Epoch 00044: val_auc improved from 0.86236 to 0.87245, saving model to ./best_weights.hdf5\n",
      "205/205 [==============================] - 54s 264ms/step - loss: 0.6514 - accuracy: 0.8617 - precision: 0.7523 - recall: 0.6662 - auc: 0.9224 - val_loss: 0.9193 - val_accuracy: 0.8133 - val_precision: 0.6422 - val_recall: 0.5718 - val_auc: 0.8725\n",
      "Epoch 45/100\n",
      "205/205 [==============================] - ETA: 0s - loss: 0.6708 - accuracy: 0.8533 - precision: 0.7353 - recall: 0.6459 - auc: 0.9175\n",
      "Epoch 00045: val_auc did not improve from 0.87245\n",
      "205/205 [==============================] - 53s 258ms/step - loss: 0.6708 - accuracy: 0.8533 - precision: 0.7353 - recall: 0.6459 - auc: 0.9175 - val_loss: 0.9893 - val_accuracy: 0.8001 - val_precision: 0.6080 - val_recall: 0.5640 - val_auc: 0.8622\n",
      "Epoch 46/100\n",
      "205/205 [==============================] - ETA: 0s - loss: 0.6344 - accuracy: 0.8620 - precision: 0.7539 - recall: 0.6652 - auc: 0.9249\n",
      "Epoch 00046: val_auc did not improve from 0.87245\n",
      "205/205 [==============================] - 52s 251ms/step - loss: 0.6344 - accuracy: 0.8620 - precision: 0.7539 - recall: 0.6652 - auc: 0.9249 - val_loss: 1.0885 - val_accuracy: 0.7820 - val_precision: 0.5686 - val_recall: 0.5308 - val_auc: 0.8395\n",
      "Epoch 47/100\n",
      "205/205 [==============================] - ETA: 0s - loss: 0.6560 - accuracy: 0.8563 - precision: 0.7385 - recall: 0.6581 - auc: 0.9203\n",
      "Epoch 00047: val_auc did not improve from 0.87245\n",
      "205/205 [==============================] - 53s 261ms/step - loss: 0.6560 - accuracy: 0.8563 - precision: 0.7385 - recall: 0.6581 - auc: 0.9203 - val_loss: 1.0149 - val_accuracy: 0.7749 - val_precision: 0.5538 - val_recall: 0.5132 - val_auc: 0.8363\n",
      "Epoch 48/100\n",
      "205/205 [==============================] - ETA: 0s - loss: 0.6525 - accuracy: 0.8607 - precision: 0.7493 - recall: 0.6652 - auc: 0.9214\n",
      "Epoch 00048: val_auc did not improve from 0.87245\n",
      "205/205 [==============================] - 52s 252ms/step - loss: 0.6525 - accuracy: 0.8607 - precision: 0.7493 - recall: 0.6652 - auc: 0.9214 - val_loss: 0.9521 - val_accuracy: 0.7947 - val_precision: 0.6002 - val_recall: 0.5357 - val_auc: 0.8543\n",
      "Epoch 49/100\n",
      "205/205 [==============================] - ETA: 0s - loss: 0.6406 - accuracy: 0.8614 - precision: 0.7505 - recall: 0.6674 - auc: 0.9240\n",
      "Epoch 00049: val_auc did not improve from 0.87245\n",
      "205/205 [==============================] - 54s 262ms/step - loss: 0.6406 - accuracy: 0.8614 - precision: 0.7505 - recall: 0.6674 - auc: 0.9240 - val_loss: 1.0239 - val_accuracy: 0.8013 - val_precision: 0.6115 - val_recall: 0.5630 - val_auc: 0.8556\n",
      "Epoch 50/100\n",
      "205/205 [==============================] - ETA: 0s - loss: 0.6222 - accuracy: 0.8658 - precision: 0.7579 - recall: 0.6806 - auc: 0.9287\n",
      "Epoch 00050: val_auc did not improve from 0.87245\n",
      "205/205 [==============================] - 53s 257ms/step - loss: 0.6222 - accuracy: 0.8658 - precision: 0.7579 - recall: 0.6806 - auc: 0.9287 - val_loss: 1.0118 - val_accuracy: 0.7977 - val_precision: 0.6047 - val_recall: 0.5503 - val_auc: 0.8519\n",
      "Epoch 51/100\n",
      "205/205 [==============================] - ETA: 0s - loss: 0.6372 - accuracy: 0.8639 - precision: 0.7567 - recall: 0.6715 - auc: 0.9257\n",
      "Epoch 00051: val_auc did not improve from 0.87245\n",
      "205/205 [==============================] - 52s 255ms/step - loss: 0.6372 - accuracy: 0.8639 - precision: 0.7567 - recall: 0.6715 - auc: 0.9257 - val_loss: 1.0393 - val_accuracy: 0.7972 - val_precision: 0.6037 - val_recall: 0.5494 - val_auc: 0.8502\n",
      "Epoch 52/100\n",
      "205/205 [==============================] - ETA: 0s - loss: 0.6183 - accuracy: 0.8678 - precision: 0.7634 - recall: 0.6828 - auc: 0.9292\n",
      "Epoch 00052: val_auc did not improve from 0.87245\n",
      "205/205 [==============================] - 53s 257ms/step - loss: 0.6183 - accuracy: 0.8678 - precision: 0.7634 - recall: 0.6828 - auc: 0.9292 - val_loss: 1.0051 - val_accuracy: 0.7957 - val_precision: 0.5994 - val_recall: 0.5513 - val_auc: 0.8525\n",
      "Epoch 53/100\n",
      "205/205 [==============================] - ETA: 0s - loss: 0.6175 - accuracy: 0.8671 - precision: 0.7587 - recall: 0.6867 - auc: 0.9296\n",
      "Epoch 00053: val_auc did not improve from 0.87245\n",
      "205/205 [==============================] - 52s 253ms/step - loss: 0.6175 - accuracy: 0.8671 - precision: 0.7587 - recall: 0.6867 - auc: 0.9296 - val_loss: 0.9740 - val_accuracy: 0.7862 - val_precision: 0.5815 - val_recall: 0.5161 - val_auc: 0.8462\n",
      "Epoch 54/100\n",
      "205/205 [==============================] - ETA: 0s - loss: 0.6194 - accuracy: 0.8698 - precision: 0.7636 - recall: 0.6942 - auc: 0.9294\n",
      "Epoch 00054: val_auc did not improve from 0.87245\n",
      "205/205 [==============================] - 54s 262ms/step - loss: 0.6194 - accuracy: 0.8698 - precision: 0.7636 - recall: 0.6942 - auc: 0.9294 - val_loss: 0.9071 - val_accuracy: 0.8089 - val_precision: 0.6283 - val_recall: 0.5767 - val_auc: 0.8717\n",
      "Epoch 55/100\n",
      "205/205 [==============================] - ETA: 0s - loss: 0.6227 - accuracy: 0.8694 - precision: 0.7627 - recall: 0.6933 - auc: 0.9292\n",
      "Epoch 00055: val_auc did not improve from 0.87245\n",
      "205/205 [==============================] - 52s 252ms/step - loss: 0.6227 - accuracy: 0.8694 - precision: 0.7627 - recall: 0.6933 - auc: 0.9292 - val_loss: 0.9926 - val_accuracy: 0.8035 - val_precision: 0.6186 - val_recall: 0.5582 - val_auc: 0.8575\n",
      "Epoch 56/100\n",
      "205/205 [==============================] - ETA: 0s - loss: 0.6095 - accuracy: 0.8696 - precision: 0.7637 - recall: 0.6925 - auc: 0.9314\n",
      "Epoch 00056: val_auc did not improve from 0.87245\n",
      "205/205 [==============================] - 54s 265ms/step - loss: 0.6095 - accuracy: 0.8696 - precision: 0.7637 - recall: 0.6925 - auc: 0.9314 - val_loss: 0.9422 - val_accuracy: 0.8003 - val_precision: 0.6103 - val_recall: 0.5572 - val_auc: 0.8617\n",
      "Epoch 57/100\n",
      "205/205 [==============================] - ETA: 0s - loss: 0.6066 - accuracy: 0.8672 - precision: 0.7591 - recall: 0.6867 - auc: 0.9318\n",
      "Epoch 00057: val_auc did not improve from 0.87245\n",
      "205/205 [==============================] - 52s 253ms/step - loss: 0.6066 - accuracy: 0.8672 - precision: 0.7591 - recall: 0.6867 - auc: 0.9318 - val_loss: 0.9856 - val_accuracy: 0.7996 - val_precision: 0.6090 - val_recall: 0.5543 - val_auc: 0.8543\n",
      "Epoch 58/100\n",
      "205/205 [==============================] - ETA: 0s - loss: 0.6024 - accuracy: 0.8716 - precision: 0.7702 - recall: 0.6935 - auc: 0.9338\n",
      "Epoch 00058: val_auc did not improve from 0.87245\n",
      "205/205 [==============================] - 53s 259ms/step - loss: 0.6024 - accuracy: 0.8716 - precision: 0.7702 - recall: 0.6935 - auc: 0.9338 - val_loss: 1.0330 - val_accuracy: 0.8087 - val_precision: 0.6296 - val_recall: 0.5699 - val_auc: 0.8564\n",
      "Epoch 59/100\n",
      "205/205 [==============================] - ETA: 0s - loss: 0.6194 - accuracy: 0.8651 - precision: 0.7545 - recall: 0.6825 - auc: 0.9295\n",
      "Epoch 00059: val_auc did not improve from 0.87245\n",
      "205/205 [==============================] - 52s 254ms/step - loss: 0.6194 - accuracy: 0.8651 - precision: 0.7545 - recall: 0.6825 - auc: 0.9295 - val_loss: 1.0463 - val_accuracy: 0.7886 - val_precision: 0.5851 - val_recall: 0.5308 - val_auc: 0.8433\n",
      "Epoch 00059: early stopping\n"
     ]
    }
   ],
   "source": [
    "model_history=model.fit(train_dataset,\n",
    "                        validation_data=valid_dataset,\n",
    "                        epochs = 100,\n",
    "                        callbacks = callback_list,\n",
    "                        verbose = 1)"
   ]
  },
  {
   "cell_type": "code",
   "execution_count": 13,
   "metadata": {
    "execution": {
     "iopub.execute_input": "2022-12-03T22:36:42.605995Z",
     "iopub.status.busy": "2022-12-03T22:36:42.605015Z",
     "iopub.status.idle": "2022-12-03T22:36:42.934011Z",
     "shell.execute_reply": "2022-12-03T22:36:42.934471Z",
     "shell.execute_reply.started": "2022-12-03T21:26:16.397486Z"
    },
    "papermill": {
     "duration": 3.357092,
     "end_time": "2022-12-03T22:36:42.934607",
     "exception": false,
     "start_time": "2022-12-03T22:36:39.577515",
     "status": "completed"
    },
    "tags": []
   },
   "outputs": [
    {
     "data": {
      "image/png": "[encoded data removed]",
      "text/plain": [
       "<Figure size 432x288 with 1 Axes>"
      ]
     },
     "metadata": {
      "needs_background": "light"
     },
     "output_type": "display_data"
    }
   ],
   "source": [
    "# Summarize history for loss\n",
    "\n",
    "plt.plot(model_history.history['loss'])\n",
    "plt.plot(model_history.history['val_loss'])\n",
    "plt.title('Model Loss')\n",
    "plt.ylabel('Loss')\n",
    "plt.xlabel('Epoch')\n",
    "plt.legend(['Train', 'Validation'], loc='upper left', bbox_to_anchor=(1,1))\n",
    "plt.show()"
   ]
  },
  {
   "cell_type": "code",
   "execution_count": 14,
   "metadata": {
    "execution": {
     "iopub.execute_input": "2022-12-03T22:36:49.035605Z",
     "iopub.status.busy": "2022-12-03T22:36:49.035035Z",
     "iopub.status.idle": "2022-12-03T22:36:49.158983Z",
     "shell.execute_reply": "2022-12-03T22:36:49.159511Z",
     "shell.execute_reply.started": "2022-12-03T21:26:16.549024Z"
    },
    "papermill": {
     "duration": 3.157172,
     "end_time": "2022-12-03T22:36:49.159650",
     "exception": false,
     "start_time": "2022-12-03T22:36:46.002478",
     "status": "completed"
    },
    "tags": []
   },
   "outputs": [
    {
     "data": {
      "image/png": "[encoded data removed]",
      "text/plain": [
       "<Figure size 432x288 with 1 Axes>"
      ]
     },
     "metadata": {
      "needs_background": "light"
     },
     "output_type": "display_data"
    }
   ],
   "source": [
    "# Summarize history for loss\n",
    "\n",
    "plt.plot(model_history.history['auc'])\n",
    "plt.plot(model_history.history['val_auc'])\n",
    "plt.title('Model AUC')\n",
    "plt.ylabel('AUC')\n",
    "plt.xlabel('Epoch')\n",
    "plt.legend(['Train', 'Validation'], loc='upper left', bbox_to_anchor=(1,1))\n",
    "plt.show()"
   ]
  },
  {
   "cell_type": "code",
   "execution_count": 15,
   "metadata": {
    "execution": {
     "iopub.execute_input": "2022-12-03T22:36:56.149489Z",
     "iopub.status.busy": "2022-12-03T22:36:56.148809Z",
     "iopub.status.idle": "2022-12-03T22:36:56.361246Z",
     "shell.execute_reply": "2022-12-03T22:36:56.360721Z",
     "shell.execute_reply.started": "2022-12-03T21:32:31.038682Z"
    },
    "papermill": {
     "duration": 3.339307,
     "end_time": "2022-12-03T22:36:56.361356",
     "exception": false,
     "start_time": "2022-12-03T22:36:53.022049",
     "status": "completed"
    },
    "tags": []
   },
   "outputs": [
    {
     "name": "stdout",
     "output_type": "stream",
     "text": [
      "Found 1279 images belonging to 4 classes.\n"
     ]
    }
   ],
   "source": [
    "test_dataset  = test_datagen.flow_from_directory(directory = '../input/alzheimers-dataset-4-class-of-images/Alzheimer_s Dataset/test',\n",
    "                                                   target_size = (224,224),\n",
    "                                                   class_mode = 'categorical',\n",
    "                                                   batch_size = 20)"
   ]
  },
  {
   "cell_type": "code",
   "execution_count": 16,
   "metadata": {
    "execution": {
     "iopub.execute_input": "2022-12-03T22:37:02.796036Z",
     "iopub.status.busy": "2022-12-03T22:37:02.794970Z",
     "iopub.status.idle": "2022-12-03T22:37:10.054562Z",
     "shell.execute_reply": "2022-12-03T22:37:10.053615Z",
     "shell.execute_reply.started": "2022-12-03T21:34:00.143959Z"
    },
    "papermill": {
     "duration": 10.610985,
     "end_time": "2022-12-03T22:37:10.054676",
     "exception": false,
     "start_time": "2022-12-03T22:36:59.443691",
     "status": "completed"
    },
    "tags": []
   },
   "outputs": [],
   "source": [
    "pred_labels = model.predict(test_dataset)"
   ]
  },
  {
   "cell_type": "code",
   "execution_count": 17,
   "metadata": {
    "execution": {
     "iopub.execute_input": "2022-12-03T22:37:16.418542Z",
     "iopub.status.busy": "2022-12-03T22:37:16.417605Z",
     "iopub.status.idle": "2022-12-03T22:37:16.946344Z",
     "shell.execute_reply": "2022-12-03T22:37:16.945638Z",
     "shell.execute_reply.started": "2022-12-03T21:39:54.425502Z"
    },
    "papermill": {
     "duration": 3.566974,
     "end_time": "2022-12-03T22:37:16.946463",
     "exception": false,
     "start_time": "2022-12-03T22:37:13.379489",
     "status": "completed"
    },
    "tags": []
   },
   "outputs": [
    {
     "data": {
      "image/png": "[encoded data removed]",
      "text/plain": [
       "<Figure size 1440x360 with 4 Axes>"
      ]
     },
     "metadata": {
      "needs_background": "light"
     },
     "output_type": "display_data"
    }
   ],
   "source": [
    "def Train_Val_Plot(acc,val_acc,loss,val_loss,auc,val_auc,precision,val_precision):\n",
    "    \n",
    "    fig, (ax1, ax2,ax3,ax4) = plt.subplots(1,4, figsize= (20,5))\n",
    "    fig.suptitle(\" MODEL'S METRICS VISUALIZATION \")\n",
    "\n",
    "    ax1.plot(range(1, len(acc) + 1), acc)\n",
    "    ax1.plot(range(1, len(val_acc) + 1), val_acc)\n",
    "    ax1.set_title('History of Accuracy')\n",
    "    ax1.set_xlabel('Epochs')\n",
    "    ax1.set_ylabel('Accuracy')\n",
    "    ax1.legend(['training', 'validation'])\n",
    "\n",
    "\n",
    "    ax2.plot(range(1, len(loss) + 1), loss)\n",
    "    ax2.plot(range(1, len(val_loss) + 1), val_loss)\n",
    "    ax2.set_title('History of Loss')\n",
    "    ax2.set_xlabel('Epochs')\n",
    "    ax2.set_ylabel('Loss')\n",
    "    ax2.legend(['training', 'validation'])\n",
    "    \n",
    "    ax3.plot(range(1, len(auc) + 1), auc)\n",
    "    ax3.plot(range(1, len(val_auc) + 1), val_auc)\n",
    "    ax3.set_title('History of AUC')\n",
    "    ax3.set_xlabel('Epochs')\n",
    "    ax3.set_ylabel('AUC')\n",
    "    ax3.legend(['training', 'validation'])\n",
    "    \n",
    "    ax4.plot(range(1, len(precision) + 1), precision)\n",
    "    ax4.plot(range(1, len(val_precision) + 1), val_precision)\n",
    "    ax4.set_title('History of Precision')\n",
    "    ax4.set_xlabel('Epochs')\n",
    "    ax4.set_ylabel('Precision')\n",
    "    ax4.legend(['training', 'validation'])\n",
    "\n",
    "\n",
    "    plt.show()\n",
    "    \n",
    "\n",
    "Train_Val_Plot(model_history.history['accuracy'],model_history.history['val_accuracy'],\n",
    "               model_history.history['loss'],model_history.history['val_loss'],\n",
    "               model_history.history['auc'],model_history.history['val_auc'],\n",
    "               model_history.history['precision'],model_history.history['val_precision']\n",
    "              )"
   ]
  },
  {
   "cell_type": "code",
   "execution_count": 18,
   "metadata": {
    "execution": {
     "iopub.execute_input": "2022-12-03T22:37:23.844883Z",
     "iopub.status.busy": "2022-12-03T22:37:23.844005Z",
     "iopub.status.idle": "2022-12-03T22:37:23.847541Z",
     "shell.execute_reply": "2022-12-03T22:37:23.845589Z",
     "shell.execute_reply.started": "2022-12-03T21:33:50.700709Z"
    },
    "papermill": {
     "duration": 3.806324,
     "end_time": "2022-12-03T22:37:23.847673",
     "exception": false,
     "start_time": "2022-12-03T22:37:20.041349",
     "status": "completed"
    },
    "tags": []
   },
   "outputs": [
    {
     "data": {
      "text/plain": [
       "\"CLASSES = ['MildDemented','ModerateDemented','NonDemented','VeryMildDemented']\\ndef roundoff(arr):\\n    arr[np.argwhere(arr != arr.max())] = 0\\n    arr[np.argwhere(arr == arr.max())] = 1\\n    return arr\\n\\nfor labels in pred_labels:\\n    labels = roundoff(labels)\\n\\nprint(classification_report(test_labels, pred_labels, target_names=CLASSES))\""
      ]
     },
     "execution_count": 18,
     "metadata": {},
     "output_type": "execute_result"
    }
   ],
   "source": [
    "'''CLASSES = ['MildDemented','ModerateDemented','NonDemented','VeryMildDemented']\n",
    "def roundoff(arr):\n",
    "    arr[np.argwhere(arr != arr.max())] = 0\n",
    "    arr[np.argwhere(arr == arr.max())] = 1\n",
    "    return arr\n",
    "\n",
    "for labels in pred_labels:\n",
    "    labels = roundoff(labels)\n",
    "\n",
    "print(classification_report(test_labels, pred_labels, target_names=CLASSES))'''"
   ]
  },
  {
   "cell_type": "code",
   "execution_count": 19,
   "metadata": {
    "execution": {
     "iopub.execute_input": "2022-12-03T22:37:29.978979Z",
     "iopub.status.busy": "2022-12-03T22:37:29.977545Z",
     "iopub.status.idle": "2022-12-03T22:37:33.660933Z",
     "shell.execute_reply": "2022-12-03T22:37:33.660362Z",
     "shell.execute_reply.started": "2022-12-03T21:34:29.313824Z"
    },
    "papermill": {
     "duration": 6.722278,
     "end_time": "2022-12-03T22:37:33.661072",
     "exception": false,
     "start_time": "2022-12-03T22:37:26.938794",
     "status": "completed"
    },
    "tags": []
   },
   "outputs": [
    {
     "name": "stdout",
     "output_type": "stream",
     "text": [
      "Accuracy =  0.8303362131118774\n",
      "Precision =  0.6740050911903381\n",
      "Recall =  0.6223612427711487\n",
      "AUC =  0.8960751295089722\n"
     ]
    }
   ],
   "source": [
    "scores = model.evaluate_generator(test_dataset)\n",
    "print(\"Accuracy = \", scores[1])\n",
    "print(\"Precision = \", scores[2])\n",
    "print(\"Recall = \", scores[3])\n",
    "print(\"AUC = \", scores[4])"
   ]
  }
 ],
 "metadata": {
  "kernelspec": {
   "display_name": "Python 3",
   "language": "python",
   "name": "python3"
  },
  "language_info": {
   "codemirror_mode": {
    "name": "ipython",
    "version": 3
   },
   "file_extension": ".py",
   "mimetype": "text/x-python",
   "name": "python",
   "nbconvert_exporter": "python",
   "pygments_lexer": "ipython3",
   "version": "3.7.6"
  },
  "papermill": {
   "duration": 3213.919251,
   "end_time": "2022-12-03T22:37:37.046756",
   "environment_variables": {},
   "exception": null,
   "input_path": "__notebook__.ipynb",
   "output_path": "__notebook__.ipynb",
   "parameters": {},
   "start_time": "2022-12-03T21:44:03.127505",
   "version": "2.1.0"
  }
 },
 "nbformat": 4,
 "nbformat_minor": 4
}
